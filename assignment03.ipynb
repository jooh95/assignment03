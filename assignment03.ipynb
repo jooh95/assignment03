{
 "cells": [
  {
   "cell_type": "markdown",
   "metadata": {},
   "source": [
    "# Assignment03 : K-mean Algorithm in Python\n",
    "# Name : Joonoh-Oh\n",
    "# Student-ID : 20146136"
   ]
  },
  {
   "cell_type": "code",
   "execution_count": 1,
   "metadata": {},
   "outputs": [],
   "source": [
    "import numpy as np\n",
    "import random\n",
    "import matplotlib.pyplot as plt\n",
    "#Name: joonoh-oh\n",
    "#Student-ID: 20146136"
   ]
  },
  {
   "cell_type": "markdown",
   "metadata": {},
   "source": [
    "# Function for defining x and y values"
   ]
  },
  {
   "cell_type": "code",
   "execution_count": 2,
   "metadata": {},
   "outputs": [],
   "source": [
    "def inputData(xmin, xmax):\n",
    "    \n",
    "    x = np.arange(xmin, xmax, 0.3)\n",
    "    \n",
    "    np.random.shuffle(x)\n",
    "    \n",
    "    y = np.arange(xmin, xmax, 0.3)\n",
    "    np.random.shuffle(y)\n",
    "    \n",
    "    return x, y"
   ]
  },
  {
   "cell_type": "markdown",
   "metadata": {},
   "source": [
    "# Function for labeling initial points"
   ]
  },
  {
   "cell_type": "code",
   "execution_count": 3,
   "metadata": {},
   "outputs": [],
   "source": [
    "def initialLabel(x, k):\n",
    "    length = len(x)\n",
    "    \n",
    "    labels = np.empty(length)\n",
    "    \n",
    "    for i in range(0, length):\n",
    "        labels[i] = random.choice(range(1,k+1))\n",
    "    \n",
    "    return labels;"
   ]
  },
  {
   "cell_type": "markdown",
   "metadata": {},
   "source": [
    "# Function for setting inital centers of initial points"
   ]
  },
  {
   "cell_type": "code",
   "execution_count": 4,
   "metadata": {},
   "outputs": [],
   "source": [
    "def initialCentroid(x, y, labels, k):\n",
    "    \n",
    "    length = len(x)\n",
    "    \n",
    "    sum_x = np.zeros(k)\n",
    "    sum_y = np.zeros(k)\n",
    "    center_x = np.zeros(k)\n",
    "    center_y = np.zeros(k)\n",
    "    count = np.zeros(k)\n",
    "    \n",
    "    label = list(range(1, k+1))\n",
    "    \n",
    "    for i in range(0, length):     \n",
    "        for j in range(0,k):\n",
    "            if(labels[i] == label[j]):\n",
    "                count[j] += 1\n",
    "                sum_x[j] += x[i]\n",
    "                sum_y[j] += y[i]\n",
    "    for i in range(0,k):            \n",
    "        center_x[i] = sum_x[i] / count[i]\n",
    "        center_y[i] = sum_y[i] / count[i]\n",
    "    return center_x, center_y"
   ]
  },
  {
   "cell_type": "markdown",
   "metadata": {},
   "source": [
    "# Function for setting new labels"
   ]
  },
  {
   "cell_type": "code",
   "execution_count": 5,
   "metadata": {},
   "outputs": [],
   "source": [
    "def finalLabel(x, y, center_x, center_y, k):\n",
    "    length = len(x)\n",
    "    \n",
    "    labels = np.empty(length);\n",
    "    \n",
    "    dist = np.empty(k);\n",
    "    \n",
    "    \n",
    "    for i in range(0, length):\n",
    "        min_idx = 0\n",
    "        for j in range(0,k):\n",
    "            dist[j] = np.sqrt((x[i] - center_x[j])**2 + (y[i] - center_y[j])**2)\n",
    "            if(dist[j] <= dist[min_idx]):\n",
    "                min_idx = j\n",
    "        labels[i] = min_idx + 1\n",
    "    \n",
    "    return labels;"
   ]
  },
  {
   "cell_type": "markdown",
   "metadata": {},
   "source": [
    "# Function for get new centers according to new labels"
   ]
  },
  {
   "cell_type": "code",
   "execution_count": 6,
   "metadata": {},
   "outputs": [],
   "source": [
    "def finalCentroid(x, y, labels, k):\n",
    "    length = len(x)\n",
    "    \n",
    "    sum_x = np.zeros(k)\n",
    "    sum_y = np.zeros(k)\n",
    "    center_x = np.zeros(k)\n",
    "    center_y = np.zeros(k)\n",
    "    count = np.zeros(k)\n",
    "    \n",
    "    label = list(range(1, k+1))\n",
    "    \n",
    "    for i in range(0, length):     \n",
    "        for j in range(0,k):\n",
    "            if(labels[i] == label[j]):\n",
    "                count[j] += 1\n",
    "                sum_x[j] += x[i]\n",
    "                sum_y[j] += y[i]\n",
    "    for i in range(0,k):            \n",
    "        center_x[i] = sum_x[i] / count[i]\n",
    "        center_y[i] = sum_y[i] / count[i]\n",
    "    return center_x, center_y"
   ]
  },
  {
   "cell_type": "markdown",
   "metadata": {},
   "source": [
    "# Function for calculating energy(error)"
   ]
  },
  {
   "cell_type": "code",
   "execution_count": 7,
   "metadata": {},
   "outputs": [],
   "source": [
    "def calculateEnergy(x, y, o_center_x, o_center_y, f_center_x, f_center_y, o_labels, f_labels):\n",
    "    \n",
    "    length = len(x)\n",
    "    \n",
    "    o_energy = 0\n",
    "    \n",
    "    f_energy = 0\n",
    "    \n",
    "    label = list(range(1, k+1))\n",
    "    \n",
    "    for i in range(0, length):     \n",
    "        for j in range(0,k):\n",
    "            if(o_labels[i] == label[j]):\n",
    "                o_energy += np.sqrt((x[i] - center_x[j])**2 + (y[i] - center_y[j])**2)\n",
    "    \n",
    "    for i in range(0, length):     \n",
    "        for j in range(0,k):\n",
    "            if(f_labels[i] == label[j]):\n",
    "                f_energy += np.sqrt((x[i] - f_center_x[j])**2 + (y[i] - f_center_y[j])**2)\n",
    "    \n",
    "    \n",
    "    energy = o_energy - f_energy\n",
    "    \n",
    "    return energy"
   ]
  },
  {
   "cell_type": "markdown",
   "metadata": {},
   "source": [
    "# Define the x, y scale"
   ]
  },
  {
   "cell_type": "code",
   "execution_count": 8,
   "metadata": {},
   "outputs": [],
   "source": [
    "x_max = 10\n",
    "x_min = -10\n",
    "\n",
    "y_max = 10\n",
    "y_min = 10"
   ]
  },
  {
   "cell_type": "markdown",
   "metadata": {},
   "source": [
    "# Determine the number for categorizing. In this code, k = 3."
   ]
  },
  {
   "cell_type": "code",
   "execution_count": 9,
   "metadata": {},
   "outputs": [],
   "source": [
    "k = 3"
   ]
  },
  {
   "cell_type": "markdown",
   "metadata": {},
   "source": [
    "# Plot defined points."
   ]
  },
  {
   "cell_type": "code",
   "execution_count": 10,
   "metadata": {},
   "outputs": [
    {
     "data": {
      "image/png": "[encoded data removed]",
      "text/plain": [
       "<Figure size 432x288 with 1 Axes>"
      ]
     },
     "metadata": {},
     "output_type": "display_data"
    }
   ],
   "source": [
    "x, y = inputData(x_min, x_max)\n",
    "\n",
    "plt.figure(1)\n",
    "\n",
    "plt.scatter(x,y, marker='o', label='defined points')\n",
    "\n",
    "plt.xlim(x_min - 1, x_max + 1)\n",
    "plt.ylim(x_min - 1, x_max + 1)\n",
    "\n",
    "plt.legend(bbox_to_anchor=(1.05, 1), loc='upper left', borderaxespad=0)\n",
    "\n",
    "plt.show()\n"
   ]
  },
  {
   "cell_type": "markdown",
   "metadata": {},
   "source": [
    "# Run k-mean alogirithm and print the energy each time."
   ]
  },
  {
   "cell_type": "code",
   "execution_count": 11,
   "metadata": {},
   "outputs": [
    {
     "name": "stdout",
     "output_type": "stream",
     "text": [
      "220.1850997793436\n",
      "4.474780693251773\n",
      "1.3961472127816705\n",
      "3.272853357299084\n",
      "0.4479539282945666\n",
      "2.238181055461098\n",
      "1.1973426260933024\n",
      "1.1379114896022884\n",
      "5.594821956257931\n",
      "1.9079892298640857\n",
      "0.0\n"
     ]
    }
   ],
   "source": [
    "f_labels = initialLabel(x, k)\n",
    "\n",
    "f_center_x, f_center_y = initialCentroid(x, y, f_labels, k)\n",
    "\n",
    "\n",
    "while True:\n",
    "    \n",
    "    labels = f_labels;\n",
    "\n",
    "    center_x, center_y = f_center_x, f_center_y;\n",
    "\n",
    "    f_labels = finalLabel(x, y, f_center_x, f_center_y, k)\n",
    "\n",
    "    f_center_x, f_center_y = finalCentroid(x, y, f_labels, k)\n",
    "    \n",
    "    energy = calculateEnergy(x, y, center_x, center_y, f_center_x, f_center_y, labels, f_labels)\n",
    "    print(energy)\n",
    "    if(energy <= 0):\n",
    "        break;"
   ]
  },
  {
   "cell_type": "markdown",
   "metadata": {},
   "source": [
    "# Visualize the final result of clustering through the graph."
   ]
  },
  {
   "cell_type": "code",
   "execution_count": 12,
   "metadata": {},
   "outputs": [
    {
     "data": {
      "text/plain": [
       "(-11, 11)"
      ]
     },
     "execution_count": 12,
     "metadata": {},
     "output_type": "execute_result"
    },
    {
     "data": {
      "image/png": "[encoded data removed]",
      "text/plain": [
       "<Figure size 432x288 with 1 Axes>"
      ]
     },
     "metadata": {},
     "output_type": "display_data"
    }
   ],
   "source": [
    "plt.figure(1)\n",
    "label = list(range(1, k+1))\n",
    "\n",
    "for i in range(1, k+1):\n",
    "    plt.scatter(x[f_labels==i],y[f_labels==i], marker='o', label='cluster %d' %i)\n",
    "\n",
    "    \n",
    "plt.plot(f_center_x, f_center_y, 'x', label='center')\n",
    "\n",
    "plt.xlim(x_min - 1, x_max + 1)\n",
    "plt.ylim(x_min - 1, x_max + 1)"
   ]
  },
  {
   "cell_type": "markdown",
   "metadata": {},
   "source": [
    "# Link to Github: https://github.com/jooh95/assignment03"
   ]
  }
 ],
 "metadata": {
  "kernelspec": {
   "display_name": "Python 3",
   "language": "python",
   "name": "python3"
  },
  "language_info": {
   "codemirror_mode": {
    "name": "ipython",
    "version": 3
   },
   "file_extension": ".py",
   "mimetype": "text/x-python",
   "name": "python",
   "nbconvert_exporter": "python",
   "pygments_lexer": "ipython3",
   "version": "3.6.5"
  }
 },
 "nbformat": 4,
 "nbformat_minor": 2
}
